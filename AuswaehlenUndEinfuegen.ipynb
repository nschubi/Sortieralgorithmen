{
 "cells": [
  {
   "cell_type": "code",
   "execution_count": 1,
   "metadata": {},
   "outputs": [],
   "source": [
    "#Sortieralgorithmus Auswählen und Einfügen\n",
    "#Laufzeit: O(n²)\n",
    "#Es werden zwei Folgen: SORTED und UNSORTED benötigt"
   ]
  },
  {
   "cell_type": "code",
   "execution_count": 5,
   "metadata": {},
   "outputs": [
    {
     "name": "stdout",
     "output_type": "stream",
     "text": [
      "[1, 3, 4, 5, 6, 12, 19, 21]\n"
     ]
    }
   ],
   "source": [
    "#Erster Algorithmus Sortieren druch Auswählen\n",
    "def selectionSort(eingabe):\n",
    "    unsortiert = eingabe\n",
    "    sortiert = []\n",
    "    for i in range(len(unsortiert)):\n",
    "        elem = min(unsortiert)\n",
    "        unsortiert.remove(elem)\n",
    "        sortiert.append(elem)\n",
    "    print(sortiert)\n",
    "\n",
    "liste = [5,3,1,19,21,12,4,6]\n",
    "selectionSort(liste)"
   ]
  },
  {
   "cell_type": "code",
   "execution_count": 11,
   "metadata": {},
   "outputs": [
    {
     "name": "stdout",
     "output_type": "stream",
     "text": [
      "[1, 3, 4, 5, 6, 12, 19, 21]\n"
     ]
    }
   ],
   "source": [
    "#Zweiter Algorithmus Sortieren durch Einfügen\n",
    "def sortiertEinfuegen(sortiert,elem):\n",
    "    if len(sortiert) > 0:\n",
    "        einf = False\n",
    "        for i in range(len(sortiert)):\n",
    "            if sortiert[i] > elem:\n",
    "                hilf = sortiert[i]\n",
    "                sortiert[i] = elem\n",
    "                sortiertEinfuegen(sortiert, hilf)\n",
    "                einf = True\n",
    "                break\n",
    "        if not einf:\n",
    "            sortiert.append(elem)\n",
    "    else:\n",
    "        sortiert.append(elem)\n",
    "\n",
    "def insertionSort(eingabe):\n",
    "    unsortiert = eingabe\n",
    "    sortiert = []\n",
    "    for i in range(len(unsortiert)):\n",
    "        elem = unsortiert[0]\n",
    "        unsortiert.remove(elem)\n",
    "        sortiertEinfuegen(sortiert, elem)\n",
    "    print(sortiert)\n",
    "    \n",
    "liste = [5,3,1,19,21,12,4,6]\n",
    "insertionSort(liste)"
   ]
  },
  {
   "cell_type": "code",
   "execution_count": 20,
   "metadata": {},
   "outputs": [
    {
     "name": "stdout",
     "output_type": "stream",
     "text": [
      "[3, 1, 5, 19, 12, 4, 6, 21]\n",
      "[1, 3, 5, 12, 4, 6, 19, 21]\n",
      "[1, 3, 5, 4, 6, 12, 19, 21]\n",
      "[1, 3, 4, 5, 6, 12, 19, 21]\n",
      "[1, 3, 4, 5, 6, 12, 19, 21]\n",
      "[1, 3, 4, 5, 6, 12, 19, 21]\n",
      "[1, 3, 4, 5, 6, 12, 19, 21]\n",
      "Eingabe nach RealBubblesort:\n",
      "[1, 3, 4, 5, 6, 12, 19, 21]\n"
     ]
    }
   ],
   "source": [
    "#Dritter Algorithmus Bubblesort\n",
    "def swap(eingabe, a, b):\n",
    "    hilf = eingabe[a]\n",
    "    eingabe[a] = eingabe[b]\n",
    "    eingabe[b] = hilf\n",
    "    \n",
    "def bubbleSort(eingabe):\n",
    "    for i in range(len(eingabe)):\n",
    "        for j in range(0, len(eingabe)):\n",
    "            if eingabe[i] > eingabe[j]:\n",
    "                swap(eingabe, i, j)\n",
    "    print(\"Eingabe nach Bubblesort:\")\n",
    "    print(eingabe)\n",
    "\n",
    "def realBubbleSort(arr):\n",
    "    n = len(arr)\n",
    "    for i in range(n-1):\n",
    "        for j in range(0, n-i-1):\n",
    "            if arr[j] > arr[j + 1] :\n",
    "                swap(arr, j, j + 1)\n",
    "        print(arr)\n",
    "    print(\"Eingabe nach RealBubblesort:\")\n",
    "    print(arr)\n",
    "    \n",
    "liste = [5,3,1,19,21,12,4,6]\n",
    "realBubbleSort(liste)"
   ]
  },
  {
   "cell_type": "code",
   "execution_count": null,
   "metadata": {},
   "outputs": [],
   "source": []
  }
 ],
 "metadata": {
  "kernelspec": {
   "display_name": "Python 3",
   "language": "python",
   "name": "python3"
  },
  "language_info": {
   "codemirror_mode": {
    "name": "ipython",
    "version": 3
   },
   "file_extension": ".py",
   "mimetype": "text/x-python",
   "name": "python",
   "nbconvert_exporter": "python",
   "pygments_lexer": "ipython3",
   "version": "3.7.4"
  }
 },
 "nbformat": 4,
 "nbformat_minor": 4
}
