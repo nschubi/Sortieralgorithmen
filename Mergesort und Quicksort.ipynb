{
 "cells": [
  {
   "cell_type": "code",
   "execution_count": 12,
   "metadata": {},
   "outputs": [
    {
     "name": "stdout",
     "output_type": "stream",
     "text": [
      "Ausgabe nach Mergesort: \n",
      "[1, 3, 4, 5, 6, 12, 19, 21]\n"
     ]
    }
   ],
   "source": [
    "#Mergesort\n",
    "#Laufzeit: O(n log n), aber nicht in situ\n",
    "def mergeSort(arr):\n",
    "    if len(arr) > 1:\n",
    "        mid = len(arr)//2\n",
    "        L = arr[:mid]\n",
    "        R = arr[mid:]\n",
    "        mergeSort(L)\n",
    "        mergeSort(R)\n",
    "        \n",
    "        i = j = k = 0\n",
    " \n",
    "        # Array aus L[] und R[] befüllen\n",
    "        while i < len(L) and j < len(R):\n",
    "            if L[i] < R[j]:\n",
    "                arr[k] = L[i]\n",
    "                i += 1\n",
    "            else:\n",
    "                arr[k] = R[j]\n",
    "                j += 1\n",
    "            k += 1\n",
    " \n",
    "        # Restlichen Elemente anfügen\n",
    "        while i < len(L):\n",
    "            arr[k] = L[i]\n",
    "            i += 1\n",
    "            k += 1\n",
    " \n",
    "        while j < len(R):\n",
    "            arr[k] = R[j]\n",
    "            j += 1\n",
    "            k += 1\n",
    "\n",
    "arr = [5,3,1,19,21,12,4,6]\n",
    "mergeSort(arr)\n",
    "print(\"Ausgabe nach Mergesort: \")\n",
    "print(arr)"
   ]
  },
  {
   "cell_type": "code",
   "execution_count": 27,
   "metadata": {},
   "outputs": [
    {
     "name": "stdout",
     "output_type": "stream",
     "text": [
      "Ausgabe nach Quicksort: \n",
      "[1, 3, 4, 5, 6, 12, 19, 21]\n"
     ]
    }
   ],
   "source": [
    "#Quicksort\n",
    "#Laufzeit: Average-Case O(n log n), Worst-Case O(n²), in situ\n",
    "def swap(arr, x, y):\n",
    "    arr[x], arr[y] = arr[y], arr[x]\n",
    "\n",
    "def findx(arr, i, j):\n",
    "    k = i + 1\n",
    "    while k <= j and arr[k] == arr[k-1]:\n",
    "        k += 1\n",
    "    if k > j:\n",
    "        return -1\n",
    "    else:\n",
    "        if arr[k-1] < arr[k]:\n",
    "            return k\n",
    "        else:\n",
    "            return k-1\n",
    "\n",
    "def partition(arr, i, j ,x):\n",
    "    l = i\n",
    "    r = j\n",
    "    while l < r:\n",
    "        while arr[l] < x:\n",
    "            l += 1\n",
    "        while not arr[r] < x:\n",
    "            r -= 1\n",
    "        if l < r:\n",
    "            swap(arr, l ,r)\n",
    "    return l\n",
    "\n",
    "def innerQuickSort(arr, i, j):\n",
    "    if i < j:\n",
    "        xindex = findx(arr,i,j)\n",
    "        if not xindex == -1:\n",
    "            k = partition(arr, i, j, arr[xindex])\n",
    "            innerQuickSort(arr,i,k-1)\n",
    "            innerQuickSort(arr,k,j)\n",
    "            \n",
    "def quickSort(arr):\n",
    "    innerQuickSort(arr,0,len(arr)-1)\n",
    "\n",
    "arr = [5,3,1,19,21,12,4,6]\n",
    "quickSort(arr)\n",
    "print(\"Ausgabe nach Quicksort: \")\n",
    "print(arr)"
   ]
  },
  {
   "cell_type": "code",
   "execution_count": null,
   "metadata": {},
   "outputs": [],
   "source": []
  }
 ],
 "metadata": {
  "kernelspec": {
   "display_name": "Python 3",
   "language": "python",
   "name": "python3"
  },
  "language_info": {
   "codemirror_mode": {
    "name": "ipython",
    "version": 3
   },
   "file_extension": ".py",
   "mimetype": "text/x-python",
   "name": "python",
   "nbconvert_exporter": "python",
   "pygments_lexer": "ipython3",
   "version": "3.7.4"
  }
 },
 "nbformat": 4,
 "nbformat_minor": 4
}
